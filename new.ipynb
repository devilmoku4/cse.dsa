{
 "cells": [
  {
   "cell_type": "markdown",
   "id": "02f69ae8",
   "metadata": {},
   "source": [
    "# 1. Is the given array Sorted"
   ]
  },
  {
   "cell_type": "code",
   "execution_count": null,
   "id": "cd63e9df",
   "metadata": {},
   "outputs": [],
   "source": [
    "def is_array_sorted(arr):\n",
    "    for i in range(len(arr) - 1):\n",
    "        if arr[i] > arr[i + 1]:\n",
    "            return False\n",
    "    return True"
   ]
  },
  {
   "cell_type": "code",
   "execution_count": null,
   "id": "cd1a73c7",
   "metadata": {},
   "outputs": [
    {
     "data": {
      "text/plain": [
       "False"
      ]
     },
     "execution_count": 9,
     "metadata": {},
     "output_type": "execute_result"
    }
   ],
   "source": [
    "arr = [3,0]\n",
    "is_array_sorted(arr)"
   ]
  },
  {
   "cell_type": "markdown",
   "id": "f55c3412",
   "metadata": {},
   "source": [
    "# 2. Find first missing positive number"
   ]
  },
  {
   "cell_type": "code",
   "execution_count": 38,
   "id": "2d603d2c",
   "metadata": {},
   "outputs": [],
   "source": [
    "def first_missing_positive_number(nums):\n",
    "    for i in range(1, len(nums)+1):\n",
    "        if i in nums:\n",
    "            continue\n",
    "        else:\n",
    "            return i\n",
    "    \n",
    "    if 0 in nums:\n",
    "        return len(nums)\n",
    "    else:\n",
    "        return len(nums) + 1"
   ]
  },
  {
   "cell_type": "code",
   "execution_count": 43,
   "id": "6d6297f9",
   "metadata": {},
   "outputs": [
    {
     "data": {
      "text/plain": [
       "3"
      ]
     },
     "execution_count": 43,
     "metadata": {},
     "output_type": "execute_result"
    }
   ],
   "source": [
    "first_missing_positive_number([1,2])"
   ]
  },
  {
   "cell_type": "markdown",
   "id": "60e6b107",
   "metadata": {},
   "source": [
    "# 3. Valid parentheses"
   ]
  },
  {
   "cell_type": "code",
   "execution_count": 46,
   "id": "bd64b332",
   "metadata": {},
   "outputs": [],
   "source": [
    "def is_valid_parentheses(given_string):\n",
    "    #input = \"({[]})\"\n",
    "    l = list()\n",
    "    for i in given_string:\n",
    "        if i == \"(\" or i == \"[\" or i == \"{\":\n",
    "            l.append(i)\n",
    "        elif i == \")\" and l[-1] == '(':\n",
    "            l.pop()\n",
    "        elif i == \"}\" and l[-1] == '{':\n",
    "            l.pop()\n",
    "        elif i == \"]\" and l[-1] == '[':\n",
    "            l.pop()\n",
    "        else:\n",
    "            return False\n",
    "    \n",
    "    if len(l) == 0:\n",
    "        return True\n",
    "    else:\n",
    "        return False"
   ]
  },
  {
   "cell_type": "code",
   "execution_count": 101,
   "id": "e3cece20",
   "metadata": {},
   "outputs": [
    {
     "data": {
      "text/plain": [
       "False"
      ]
     },
     "execution_count": 101,
     "metadata": {},
     "output_type": "execute_result"
    }
   ],
   "source": [
    "is_valid_parentheses(\"{{[]}(([)])}({})\")"
   ]
  },
  {
   "cell_type": "markdown",
   "id": "21bec78d",
   "metadata": {},
   "source": [
    "# 4. Pattern"
   ]
  },
  {
   "cell_type": "code",
   "execution_count": 75,
   "id": "75807dd7",
   "metadata": {},
   "outputs": [
    {
     "name": "stdout",
     "output_type": "stream",
     "text": [
      "  *\n",
      " ***\n",
      "*****\n",
      " ***\n",
      "  *\n"
     ]
    }
   ],
   "source": [
    "def pattern_diamond(n):\n",
    "    for i in range(n):\n",
    "        print(\" \"*(n-i-1), end='')\n",
    "        print('*'*(i*2+1))\n",
    "    for i in range(n-2,-1,-1):\n",
    "        print(\" \"*(n-i-1), end='')\n",
    "        print('*'*(i*2+1))\n",
    "\n",
    "\n",
    "pattern_diamond(3)"
   ]
  },
  {
   "cell_type": "markdown",
   "id": "99a6f2a5",
   "metadata": {},
   "source": [
    "# 5. number of 1;s in binary representation of n"
   ]
  },
  {
   "cell_type": "code",
   "execution_count": 82,
   "id": "87ccee93",
   "metadata": {},
   "outputs": [],
   "source": [
    "def dec_to_bin(n):\n",
    "    bin_str = ''\n",
    "    while n > 0:\n",
    "        bin_str = str(n % 2) + bin_str\n",
    "        n = n // 2\n",
    "    return bin_str"
   ]
  },
  {
   "cell_type": "code",
   "execution_count": null,
   "id": "33cb7655",
   "metadata": {},
   "outputs": [],
   "source": [
    "def num_of_1_in_bin_n(n):\n",
    "    bin_str = dec_to_bin(n)\n",
    "    c = 0\n",
    "    for i in bin_str:\n",
    "        if int(i) == 1:\n",
    "            c += 1\n",
    "    return c"
   ]
  },
  {
   "cell_type": "code",
   "execution_count": 92,
   "id": "30ad1709",
   "metadata": {},
   "outputs": [
    {
     "data": {
      "text/plain": [
       "31"
      ]
     },
     "execution_count": 92,
     "metadata": {},
     "output_type": "execute_result"
    }
   ],
   "source": [
    "num_of_1_in_bin_n(2147483647)"
   ]
  },
  {
   "cell_type": "markdown",
   "id": "15996aef",
   "metadata": {},
   "source": [
    "# Extra. frequency of the target number in given array"
   ]
  },
  {
   "cell_type": "code",
   "execution_count": 95,
   "id": "f0b141a1",
   "metadata": {},
   "outputs": [],
   "source": [
    "def find_freq(arr, n):\n",
    "    d = {n:0}\n",
    "    for i in arr:\n",
    "        if i in d.keys():\n",
    "            d[i] += 1\n",
    "        else:\n",
    "            d[i] = 1\n",
    "    \n",
    "    return d[n]"
   ]
  },
  {
   "cell_type": "code",
   "execution_count": 98,
   "id": "9594484c",
   "metadata": {},
   "outputs": [
    {
     "data": {
      "text/plain": [
       "0"
      ]
     },
     "execution_count": 98,
     "metadata": {},
     "output_type": "execute_result"
    }
   ],
   "source": [
    "find_freq([1,2,3,32,1,8,2,4,2,2,2], 12)"
   ]
  }
 ],
 "metadata": {
  "kernelspec": {
   "display_name": "Python 3",
   "language": "python",
   "name": "python3"
  },
  "language_info": {
   "codemirror_mode": {
    "name": "ipython",
    "version": 3
   },
   "file_extension": ".py",
   "mimetype": "text/x-python",
   "name": "python",
   "nbconvert_exporter": "python",
   "pygments_lexer": "ipython3",
   "version": "3.12.9"
  }
 },
 "nbformat": 4,
 "nbformat_minor": 5
}
